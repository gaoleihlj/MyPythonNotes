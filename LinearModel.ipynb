{
 "cells": [
  {
   "cell_type": "markdown",
   "metadata": {},
   "source": [
    "# 线性模型笔记\n",
    "\n",
    "对于scikit learn的学习，比我预期的更加复杂和繁琐，涉及了很多一直处于似懂非懂的知识内容，作为一个已经远远不年轻的人，需要更加认真的对待这次学习，期待能够在学习python算法实现工具的同时，熟悉这些工具背后的数学知识。\n",
    "所谓线性模型，是指目标变量可以由自变量的线性组合所解释的一类统计模型，其中核心的部分可以用如下公式表示:\n",
    "$$\\hat{y\\ }(\\vec{\\omega\\ },\\vec{x\\ })=\\omega_0+\\omega_1x_1+\\omega_2x_2+\\cdots+\\omega_px_p$$\n",
    "其中$\\hat{y\\ }$表示对实际目标变量y的预测值。所谓有监督学习的目的，就是通过已知的自变量$\\vec{x\\ }=\\{x_1,x_2,\\cdots,x_p\\}$与目标变量y，基于某个优化函数计算出相应的模型参数，从而构建预测器。在线性模型中，最主要的参数就是自变量的系数向量（包括常数项$\\omega_0$）$\\vec{\\omega\\ }=\\{\\omega_0,\\omega_1,\\cdots,\\omega_p\\}$。\n",
    "对于不同的线性模型而言，有不同的优化函数。\n",
    "\n",
    "## 最小二乘"
   ]
  },
  {
   "cell_type": "code",
   "execution_count": null,
   "metadata": {},
   "outputs": [],
   "source": []
  }
 ],
 "metadata": {
  "kernelspec": {
   "display_name": "Python 3",
   "language": "python",
   "name": "python3"
  },
  "language_info": {
   "codemirror_mode": {
    "name": "ipython",
    "version": 3
   },
   "file_extension": ".py",
   "mimetype": "text/x-python",
   "name": "python",
   "nbconvert_exporter": "python",
   "pygments_lexer": "ipython3",
   "version": "3.6.1"
  }
 },
 "nbformat": 4,
 "nbformat_minor": 2
}
