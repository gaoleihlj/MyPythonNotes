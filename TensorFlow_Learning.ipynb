{
 "cells": [
  {
   "cell_type": "markdown",
   "metadata": {},
   "source": []
  },
  {
   "cell_type": "markdown",
   "metadata": {},
   "source": [
    "## 1. 张量"
   ]
  },
  {
   "cell_type": "code",
   "execution_count": 1,
   "metadata": {},
   "outputs": [
    {
     "name": "stderr",
     "output_type": "stream",
     "text": [
      "/Library/Frameworks/Python.framework/Versions/3.6/lib/python3.6/site-packages/h5py/__init__.py:36: FutureWarning: Conversion of the second argument of issubdtype from `float` to `np.floating` is deprecated. In future, it will be treated as `np.float64 == np.dtype(float).type`.\n",
      "  from ._conv import register_converters as _register_converters\n"
     ]
    },
    {
     "name": "stdout",
     "output_type": "stream",
     "text": [
      "1.5.0\n"
     ]
    }
   ],
   "source": [
    "import tensorflow as tf\n",
    "print(tf.__version__)\n"
   ]
  },
  {
   "cell_type": "code",
   "execution_count": 2,
   "metadata": {},
   "outputs": [],
   "source": [
    "import numpy as np\n"
   ]
  },
  {
   "cell_type": "markdown",
   "metadata": {},
   "source": [
    "###  1. 在 tensorflow中创建张量"
   ]
  },
  {
   "cell_type": "code",
   "execution_count": 3,
   "metadata": {},
   "outputs": [
    {
     "name": "stdout",
     "output_type": "stream",
     "text": [
      "The tf.zeros([row_dim,col_dim],dtype=np.float32) function give us:\n",
      "[[0. 0. 0.]\n",
      " [0. 0. 0.]\n",
      " [0. 0. 0.]\n",
      " [0. 0. 0.]]\n",
      "The tf.ones([row_dim,col_dim]) function give us:\n",
      "[array([[1., 1., 1.],\n",
      "       [1., 1., 1.],\n",
      "       [1., 1., 1.],\n",
      "       [1., 1., 1.]], dtype=float32)]\n",
      "The tf.fill([row_dim,col_dim],42) function give us:\n",
      "[[42 42 42]\n",
      " [42 42 42]\n",
      " [42 42 42]\n",
      " [42 42 42]]\n",
      "The constant_tsr = tf.constant([1,2,3]) function give us:\n",
      "[1 2 3]\n",
      "The constant_tsr = tf.constant(42,dtype=tf.float32,shape=[row_dim,col_dim]) function give us:\n",
      "[[42. 42. 42.]\n",
      " [42. 42. 42.]\n",
      " [42. 42. 42.]\n",
      " [42. 42. 42.]]\n"
     ]
    }
   ],
   "source": [
    "row_dim = 4\n",
    "col_dim = 3\n",
    "sess = tf.Session()\n",
    "zero_tsr = tf.zeros([row_dim,col_dim],dtype=np.float32)\n",
    "print(\"The {} function give us:\".format(\"tf.zeros([row_dim,col_dim],dtype=np.float32)\"))\n",
    "print(sess.run(zero_tsr))\n",
    "ones_tsr = tf.ones([row_dim,col_dim])\n",
    "print(\"The {} function give us:\".format(\"tf.ones([row_dim,col_dim])\"))\n",
    "print(sess.run([ones_tsr]))\n",
    "filled_tsr = tf.fill([row_dim,col_dim],42)\n",
    "print(\"The {} function give us:\".format(\"tf.fill([row_dim,col_dim],42)\"))\n",
    "print(sess.run(filled_tsr))\n",
    "constant_tsr = tf.constant([1,2,3])\n",
    "print(\"The {} function give us:\".format(\"constant_tsr = tf.constant([1,2,3])\"))\n",
    "print(sess.run(constant_tsr))\n",
    "constant_tsr = tf.constant(42,dtype=tf.float32,shape=[row_dim,col_dim])\n",
    "print(\"The {} function give us:\".format(\"constant_tsr = tf.constant(42,dtype=tf.float32,shape=[row_dim,col_dim])\"))\n",
    "print(sess.run(constant_tsr))"
   ]
  },
  {
   "cell_type": "markdown",
   "metadata": {},
   "source": [
    "###  2. 在 tensorflow中创建形状相似的张量"
   ]
  },
  {
   "cell_type": "code",
   "execution_count": 4,
   "metadata": {},
   "outputs": [
    {
     "name": "stdout",
     "output_type": "stream",
     "text": [
      "The zeros_similar = tf.zeros_like(constant_tsr) function give us:\n",
      "[[0. 0. 0.]\n",
      " [0. 0. 0.]\n",
      " [0. 0. 0.]\n",
      " [0. 0. 0.]]\n",
      "The ones_similar = tf.ones_like(constant_tsr) function give us:\n",
      "[[1. 1. 1.]\n",
      " [1. 1. 1.]\n",
      " [1. 1. 1.]\n",
      " [1. 1. 1.]]\n"
     ]
    }
   ],
   "source": [
    "zeros_similar = tf.zeros_like(constant_tsr)\n",
    "print(\"The {} function give us:\".format(\"zeros_similar = tf.zeros_like(constant_tsr)\"))\n",
    "print(sess.run(zeros_similar))\n",
    "\n",
    "ones_similar = tf.ones_like(constant_tsr)\n",
    "print(\"The {} function give us:\".format(\"ones_similar = tf.ones_like(constant_tsr)\"))\n",
    "print(sess.run(ones_similar))"
   ]
  },
  {
   "cell_type": "markdown",
   "metadata": {},
   "source": [
    "###  3. 在 tensorflow中创建序列张量"
   ]
  },
  {
   "cell_type": "code",
   "execution_count": 5,
   "metadata": {},
   "outputs": [
    {
     "name": "stdout",
     "output_type": "stream",
     "text": [
      "[0.  0.5 1. ]\n"
     ]
    }
   ],
   "source": [
    "linear_tsr = tf.linspace(start=0.,stop=1.,num=3)\n",
    "print(sess.run(linear_tsr))\n"
   ]
  },
  {
   "cell_type": "code",
   "execution_count": 6,
   "metadata": {},
   "outputs": [
    {
     "name": "stdout",
     "output_type": "stream",
     "text": [
      "[ 6  9 12]\n"
     ]
    }
   ],
   "source": [
    "integer_seq_tsr = tf.range(start=6, limit=15, delta=3)\n",
    "print(sess.run(integer_seq_tsr))"
   ]
  },
  {
   "cell_type": "markdown",
   "metadata": {},
   "source": [
    "###  4. 在 tensorflow中创建随机张量"
   ]
  },
  {
   "cell_type": "code",
   "execution_count": 7,
   "metadata": {},
   "outputs": [
    {
     "name": "stdout",
     "output_type": "stream",
     "text": [
      "[[0.09207809 0.6419617  0.9604311 ]\n",
      " [0.72083604 0.547202   0.6518978 ]\n",
      " [0.23379385 0.01271403 0.5776299 ]\n",
      " [0.44839227 0.6472099  0.71862423]]\n",
      "[[0.09207809 0.6419617  0.9604311 ]\n",
      " [0.44839227 0.6472099  0.71862423]\n",
      " [0.23379385 0.01271403 0.5776299 ]\n",
      " [0.72083604 0.547202   0.6518978 ]]\n"
     ]
    }
   ],
   "source": [
    "randunif_tsr = tf.random_uniform(shape=[row_dim,col_dim],minval=0,maxval=1)\n",
    "xx = sess.run(randunif_tsr)\n",
    "print(xx)\n",
    "xx = tf.random_shuffle(xx)\n",
    "print(sess.run(xx))"
   ]
  },
  {
   "cell_type": "code",
   "execution_count": 8,
   "metadata": {},
   "outputs": [
    {
     "name": "stderr",
     "output_type": "stream",
     "text": [
      "/Library/Frameworks/Python.framework/Versions/3.6/lib/python3.6/site-packages/matplotlib/axes/_axes.py:6521: MatplotlibDeprecationWarning: \n",
      "The 'normed' kwarg was deprecated in Matplotlib 2.1 and will be removed in 3.1. Use 'density' instead.\n",
      "  alternative=\"'density'\", removal=\"3.1\")\n"
     ]
    },
    {
     "data": {
      "image/png": "[encoded data removed]",
      "text/plain": [
       "<Figure size 360x1152 with 3 Axes>"
      ]
     },
     "metadata": {},
     "output_type": "display_data"
    }
   ],
   "source": [
    "%matplotlib inline\n",
    "import matplotlib.pyplot as plt\n",
    "import seaborn as sb\n",
    "\n",
    "fig,ax = plt.subplots(3,1,figsize=(5,16))\n",
    "\n",
    "rand_tsr = tf.random_uniform(shape=[100,100],minval=0,maxval=1)\n",
    "xx = sess.run(rand_tsr)\n",
    "sb.distplot(xx.ravel(),ax=ax[0])\n",
    "\n",
    "rand_tsr = tf.random_normal(shape=[100,100],mean=0.0, stddev=1.0)\n",
    "xx = sess.run(rand_tsr)\n",
    "sb.distplot(xx.ravel(),ax=ax[1])\n",
    "\n",
    "rand_tsr = tf.truncated_normal(shape=[100,100],mean=0.0, stddev=1.0)\n",
    "xx = sess.run(rand_tsr)\n",
    "sb.distplot(xx.ravel(),ax=ax[2])\n",
    "\n",
    "plt.show()"
   ]
  },
  {
   "cell_type": "markdown",
   "metadata": {},
   "source": [
    "###  5. 将numpy ndarray转换为张量"
   ]
  },
  {
   "cell_type": "code",
   "execution_count": 9,
   "metadata": {},
   "outputs": [
    {
     "name": "stdout",
     "output_type": "stream",
     "text": [
      "[[0. 0. 0. 0. 0.]\n",
      " [0. 0. 0. 0. 0.]\n",
      " [0. 0. 0. 0. 0.]\n",
      " [0. 0. 0. 0. 0.]\n",
      " [0. 0. 0. 0. 0.]]\n"
     ]
    }
   ],
   "source": [
    "convert_tsr = tf.convert_to_tensor(np.zeros([5,5]))\n",
    "print(sess.run(convert_tsr))"
   ]
  },
  {
   "cell_type": "markdown",
   "metadata": {},
   "source": [
    "## 2. 变量和占位符"
   ]
  },
  {
   "cell_type": "code",
   "execution_count": 10,
   "metadata": {},
   "outputs": [
    {
     "name": "stdout",
     "output_type": "stream",
     "text": [
      "[[0. 0. 0.]\n",
      " [0. 0. 0.]\n",
      " [0. 0. 0.]\n",
      " [0. 0. 0.]]\n"
     ]
    }
   ],
   "source": [
    "my_var = tf.Variable(tf.zeros([row_dim, col_dim]))\n",
    "initialize_op = tf.global_variables_initializer()\n",
    "sess.run(initialize_op)\n",
    "print(sess.run(my_var))\n",
    "\n",
    "\n"
   ]
  },
  {
   "cell_type": "code",
   "execution_count": 11,
   "metadata": {},
   "outputs": [
    {
     "name": "stdout",
     "output_type": "stream",
     "text": [
      "[[0.6241306 0.8352073]\n",
      " [0.8376652 0.8644229]]\n",
      "[[1.0891631 1.2432508]\n",
      " [1.2469095 1.446851 ]]\n"
     ]
    }
   ],
   "source": [
    "x = tf.placeholder(tf.float32,shape=[2,2],name=\"x\")\n",
    "y = tf.identity(x)\n",
    "z = tf.matmul(x, y)\n",
    "x_vals = np.random.rand(2,2)\n",
    "print(sess.run(y, feed_dict={x:x_vals}))\n",
    "print(sess.run(z, feed_dict={x:x_vals}))"
   ]
  },
  {
   "cell_type": "code",
   "execution_count": 19,
   "metadata": {},
   "outputs": [
    {
     "name": "stdout",
     "output_type": "stream",
     "text": [
      "<tf.Variable 'Variable_4:0' shape=(2, 2) dtype=float32_ref>\n",
      "[[0.9212887  0.04412389]\n",
      " [0.01388061 0.00128329]]\n",
      "<tf.Variable 'Variable_5:0' shape=(2, 2) dtype=float32_ref>\n",
      "[[0. 0.]\n",
      " [0. 0.]]\n"
     ]
    }
   ],
   "source": [
    "first_var = tf.Variable(tf.random_uniform(shape=(2,2)))\n",
    "sess.run(first_var.initializer)\n",
    "second_var = tf.Variable(tf.zeros_like(first_var))\n",
    "print(first_var)\n",
    "print(sess.run(first_var))\n",
    "sess.run(second_var.initializer)\n",
    "print(second_var)\n",
    "print(sess.run(second_var))"
   ]
  },
  {
   "cell_type": "markdown",
   "metadata": {},
   "source": [
    "## 3. 运算"
   ]
  },
  {
   "cell_type": "code",
   "execution_count": null,
   "metadata": {},
   "outputs": [],
   "source": []
  }
 ],
 "metadata": {
  "kernelspec": {
   "display_name": "Python 3",
   "language": "python",
   "name": "python3"
  },
  "language_info": {
   "codemirror_mode": {
    "name": "ipython",
    "version": 3
   },
   "file_extension": ".py",
   "mimetype": "text/x-python",
   "name": "python",
   "nbconvert_exporter": "python",
   "pygments_lexer": "ipython3",
   "version": "3.6.1"
  }
 },
 "nbformat": 4,
 "nbformat_minor": 2
}
