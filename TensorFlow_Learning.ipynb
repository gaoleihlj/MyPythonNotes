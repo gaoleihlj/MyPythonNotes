{
 "cells": [
  {
   "cell_type": "markdown",
   "metadata": {},
   "source": []
  },
  {
   "cell_type": "markdown",
   "metadata": {},
   "source": [
    "## 1. 张量"
   ]
  },
  {
   "cell_type": "code",
   "execution_count": 1,
   "metadata": {},
   "outputs": [
    {
     "name": "stderr",
     "output_type": "stream",
     "text": [
      "/Library/Frameworks/Python.framework/Versions/3.6/lib/python3.6/site-packages/h5py/__init__.py:36: FutureWarning: Conversion of the second argument of issubdtype from `float` to `np.floating` is deprecated. In future, it will be treated as `np.float64 == np.dtype(float).type`.\n",
      "  from ._conv import register_converters as _register_converters\n"
     ]
    },
    {
     "name": "stdout",
     "output_type": "stream",
     "text": [
      "1.5.0\n"
     ]
    }
   ],
   "source": [
    "import tensorflow as tf\n",
    "print(tf.__version__)\n"
   ]
  },
  {
   "cell_type": "code",
   "execution_count": 2,
   "metadata": {},
   "outputs": [],
   "source": [
    "import numpy as np\n"
   ]
  },
  {
   "cell_type": "markdown",
   "metadata": {},
   "source": [
    "###  1. 在 tensorflow中创建张量"
   ]
  },
  {
   "cell_type": "code",
   "execution_count": 3,
   "metadata": {},
   "outputs": [
    {
     "name": "stdout",
     "output_type": "stream",
     "text": [
      "The tf.zeros([row_dim,col_dim],dtype=np.float32) function give us:\n",
      "[[0. 0. 0.]\n",
      " [0. 0. 0.]\n",
      " [0. 0. 0.]\n",
      " [0. 0. 0.]]\n",
      "The tf.ones([row_dim,col_dim]) function give us:\n",
      "[array([[1., 1., 1.],\n",
      "       [1., 1., 1.],\n",
      "       [1., 1., 1.],\n",
      "       [1., 1., 1.]], dtype=float32)]\n",
      "The tf.fill([row_dim,col_dim],42) function give us:\n",
      "[[42 42 42]\n",
      " [42 42 42]\n",
      " [42 42 42]\n",
      " [42 42 42]]\n",
      "The constant_tsr = tf.constant([1,2,3]) function give us:\n",
      "[1 2 3]\n",
      "The constant_tsr = tf.constant(42,dtype=tf.float32,shape=[row_dim,col_dim]) function give us:\n",
      "[[42. 42. 42.]\n",
      " [42. 42. 42.]\n",
      " [42. 42. 42.]\n",
      " [42. 42. 42.]]\n"
     ]
    }
   ],
   "source": [
    "row_dim = 4\n",
    "col_dim = 3\n",
    "sess = tf.Session()\n",
    "zero_tsr = tf.zeros([row_dim,col_dim],dtype=np.float32)\n",
    "print(\"The {} function give us:\".format(\"tf.zeros([row_dim,col_dim],dtype=np.float32)\"))\n",
    "print(sess.run(zero_tsr))\n",
    "ones_tsr = tf.ones([row_dim,col_dim])\n",
    "print(\"The {} function give us:\".format(\"tf.ones([row_dim,col_dim])\"))\n",
    "print(sess.run([ones_tsr]))\n",
    "filled_tsr = tf.fill([row_dim,col_dim],42)\n",
    "print(\"The {} function give us:\".format(\"tf.fill([row_dim,col_dim],42)\"))\n",
    "print(sess.run(filled_tsr))\n",
    "constant_tsr = tf.constant([1,2,3])\n",
    "print(\"The {} function give us:\".format(\"constant_tsr = tf.constant([1,2,3])\"))\n",
    "print(sess.run(constant_tsr))\n",
    "constant_tsr = tf.constant(42,dtype=tf.float32,shape=[row_dim,col_dim])\n",
    "print(\"The {} function give us:\".format(\"constant_tsr = tf.constant(42,dtype=tf.float32,shape=[row_dim,col_dim])\"))\n",
    "print(sess.run(constant_tsr))"
   ]
  },
  {
   "cell_type": "markdown",
   "metadata": {},
   "source": [
    "###  2. 在 tensorflow中创建形状相似的张量"
   ]
  },
  {
   "cell_type": "code",
   "execution_count": 4,
   "metadata": {},
   "outputs": [
    {
     "name": "stdout",
     "output_type": "stream",
     "text": [
      "The zeros_similar = tf.zeros_like(constant_tsr) function give us:\n",
      "[[0. 0. 0.]\n",
      " [0. 0. 0.]\n",
      " [0. 0. 0.]\n",
      " [0. 0. 0.]]\n",
      "The ones_similar = tf.ones_like(constant_tsr) function give us:\n",
      "[[1. 1. 1.]\n",
      " [1. 1. 1.]\n",
      " [1. 1. 1.]\n",
      " [1. 1. 1.]]\n"
     ]
    }
   ],
   "source": [
    "zeros_similar = tf.zeros_like(constant_tsr)\n",
    "print(\"The {} function give us:\".format(\"zeros_similar = tf.zeros_like(constant_tsr)\"))\n",
    "print(sess.run(zeros_similar))\n",
    "\n",
    "ones_similar = tf.ones_like(constant_tsr)\n",
    "print(\"The {} function give us:\".format(\"ones_similar = tf.ones_like(constant_tsr)\"))\n",
    "print(sess.run(ones_similar))"
   ]
  },
  {
   "cell_type": "markdown",
   "metadata": {},
   "source": [
    "###  3. 在 tensorflow中创建序列张量"
   ]
  },
  {
   "cell_type": "code",
   "execution_count": 5,
   "metadata": {},
   "outputs": [
    {
     "name": "stdout",
     "output_type": "stream",
     "text": [
      "[0.  0.5 1. ]\n"
     ]
    }
   ],
   "source": [
    "linear_tsr = tf.linspace(start=0.,stop=1.,num=3)\n",
    "print(sess.run(linear_tsr))\n"
   ]
  },
  {
   "cell_type": "code",
   "execution_count": 6,
   "metadata": {},
   "outputs": [
    {
     "name": "stdout",
     "output_type": "stream",
     "text": [
      "[ 6  9 12]\n"
     ]
    }
   ],
   "source": [
    "integer_seq_tsr = tf.range(start=6, limit=15, delta=3)\n",
    "print(sess.run(integer_seq_tsr))"
   ]
  },
  {
   "cell_type": "markdown",
   "metadata": {},
   "source": [
    "###  4. 在 tensorflow中创建随机张量"
   ]
  },
  {
   "cell_type": "code",
   "execution_count": 30,
   "metadata": {},
   "outputs": [
    {
     "name": "stdout",
     "output_type": "stream",
     "text": [
      "[[0.52269554 0.9806037  0.33541524]\n",
      " [0.89360213 0.09641433 0.05539775]\n",
      " [0.7770668  0.04764283 0.30275822]\n",
      " [0.12176585 0.53405    0.2751032 ]]\n",
      "[[0.12176585 0.53405    0.2751032 ]\n",
      " [0.89360213 0.09641433 0.05539775]\n",
      " [0.7770668  0.04764283 0.30275822]\n",
      " [0.52269554 0.9806037  0.33541524]]\n"
     ]
    }
   ],
   "source": [
    "randunif_tsr = tf.random_uniform(shape=[row_dim,col_dim],minval=0,maxval=1)\n",
    "xx = sess.run(randunif_tsr)\n",
    "print(xx)\n",
    "xx = tf.random_shuffle(xx)\n",
    "print(sess.run(xx))"
   ]
  },
  {
   "cell_type": "code",
   "execution_count": 28,
   "metadata": {},
   "outputs": [
    {
     "name": "stderr",
     "output_type": "stream",
     "text": [
      "/Library/Frameworks/Python.framework/Versions/3.6/lib/python3.6/site-packages/matplotlib/axes/_axes.py:6521: MatplotlibDeprecationWarning: \n",
      "The 'normed' kwarg was deprecated in Matplotlib 2.1 and will be removed in 3.1. Use 'density' instead.\n",
      "  alternative=\"'density'\", removal=\"3.1\")\n"
     ]
    },
    {
     "data": {
      "image/png": "[encoded data removed]",
      "text/plain": [
       "<Figure size 360x1152 with 3 Axes>"
      ]
     },
     "metadata": {},
     "output_type": "display_data"
    }
   ],
   "source": [
    "%matplotlib inline\n",
    "import matplotlib.pyplot as plt\n",
    "import seaborn as sb\n",
    "\n",
    "fig,ax = plt.subplots(3,1,figsize=(5,16))\n",
    "\n",
    "rand_tsr = tf.random_uniform(shape=[100,100],minval=0,maxval=1)\n",
    "xx = sess.run(rand_tsr)\n",
    "sb.distplot(xx.ravel(),ax=ax[0])\n",
    "\n",
    "rand_tsr = tf.random_normal(shape=[100,100],mean=0.0, stddev=1.0)\n",
    "xx = sess.run(rand_tsr)\n",
    "sb.distplot(xx.ravel(),ax=ax[1])\n",
    "\n",
    "rand_tsr = tf.truncated_normal(shape=[100,100],mean=0.0, stddev=1.0)\n",
    "xx = sess.run(rand_tsr)\n",
    "sb.distplot(xx.ravel(),ax=ax[2])\n",
    "\n",
    "plt.show()"
   ]
  },
  {
   "cell_type": "markdown",
   "metadata": {},
   "source": [
    "###  5. 将numpy ndarray转换为张量"
   ]
  },
  {
   "cell_type": "code",
   "execution_count": 32,
   "metadata": {},
   "outputs": [
    {
     "name": "stdout",
     "output_type": "stream",
     "text": [
      "[[0. 0. 0. 0. 0.]\n",
      " [0. 0. 0. 0. 0.]\n",
      " [0. 0. 0. 0. 0.]\n",
      " [0. 0. 0. 0. 0.]\n",
      " [0. 0. 0. 0. 0.]]\n"
     ]
    }
   ],
   "source": [
    "convert_tsr = tf.convert_to_tensor(np.zeros([5,5]))\n",
    "print(sess.run(convert_tsr))"
   ]
  },
  {
   "cell_type": "markdown",
   "metadata": {},
   "source": [
    "## 2. 变量和占位符"
   ]
  },
  {
   "cell_type": "code",
   "execution_count": null,
   "metadata": {},
   "outputs": [],
   "source": []
  }
 ],
 "metadata": {
  "kernelspec": {
   "display_name": "Python 3",
   "language": "python",
   "name": "python3"
  },
  "language_info": {
   "codemirror_mode": {
    "name": "ipython",
    "version": 3
   },
   "file_extension": ".py",
   "mimetype": "text/x-python",
   "name": "python",
   "nbconvert_exporter": "python",
   "pygments_lexer": "ipython3",
   "version": "3.6.1"
  }
 },
 "nbformat": 4,
 "nbformat_minor": 2
}
